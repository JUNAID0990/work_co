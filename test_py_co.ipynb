{
  "cells": [
    {
      "cell_type": "markdown",
      "metadata": {
        "id": "Qt5YbhPIOVCt"
      },
      "source": [
        "***P9***. **Cakes**"
      ]
    },
    {
      "cell_type": "code",
      "execution_count": null,
      "metadata": {
        "colab": {
          "base_uri": "https://localhost:8080/"
        },
        "id": "LguZotcV_yIV",
        "outputId": "6246b204-d52a-45d4-8312-d53574a4abbc"
      },
      "outputs": [
        {
          "name": "stdout",
          "output_type": "stream",
          "text": [
            "2\n",
            "2\n",
            "2\n",
            "5\n",
            "3\n"
          ]
        }
      ],
      "source": [
        "# For N = 5 -> best A = 3 -> leftover = 5 % 2 = 0\n",
        "T = int(input())  # number of test cases\n",
        "for _ in range(T):\n",
        "    N = int(input())\n",
        "    A = (N // 2) + 1\n",
        "    print(A)\n"
      ]
    },
    {
      "cell_type": "markdown",
      "metadata": {
        "id": "ShmJQV0IOrRf"
      },
      "source": [
        "****P10.Loss in Business****"
      ]
    },
    {
      "cell_type": "code",
      "execution_count": null,
      "metadata": {
        "colab": {
          "base_uri": "https://localhost:8080/"
        },
        "id": "7ytKQOnKDXeg",
        "outputId": "76f6aa93-278c-4162-d4ca-2c22f1057c81"
      },
      "outputs": [
        {
          "name": "stdout",
          "output_type": "stream",
          "text": [
            "4\n",
            "90\n",
            "80\n",
            "NO\n",
            "23\n",
            "NO\n",
            "110\n",
            "YES\n",
            "1\n",
            "NO\n"
          ]
        }
      ],
      "source": [
        "N = int(input())     # total logon\n",
        "X = int(input())     # minimum skill required\n",
        "\n",
        "for _ in range(N):   # N baar loop chalega\n",
        "    Y = int(input()) # har ek aadmi ka skill input lo\n",
        "    if Y >= X:       # agar skill X se zyada ya big hai\n",
        "        print(\"YES\") # to wo partner ban sakta hai\n",
        "    else:\n",
        "        print(\"NO\")  # warna nahi\n",
        "\n"
      ]
    },
    {
      "cell_type": "markdown",
      "metadata": {
        "id": "FklYyOCwO49H"
      },
      "source": [
        "P11.Time **Duration**"
      ]
    },
    {
      "cell_type": "code",
      "execution_count": null,
      "metadata": {
        "colab": {
          "base_uri": "https://localhost:8080/"
        },
        "id": "FYL68c_oHyB0",
        "outputId": "3855852c-6aa8-4f30-d7e9-f97d3fb85e20"
      },
      "outputs": [
        {
          "name": "stdout",
          "output_type": "stream",
          "text": [
            "2\n",
            "1 44 2 14\n",
            "0 30\n",
            "2 42 8 23\n",
            "5 41\n"
          ]
        }
      ],
      "source": [
        "# Number of works\n",
        "N = int(input())\n",
        "\n",
        "for _ in range(N):\n",
        "    SH, SM, EH, EM = map(int, input().split())\n",
        "\n",
        "    # Convert to total minutes\n",
        "    start = SH * 60 + SM\n",
        "    end = EH * 60 + EM\n",
        "\n",
        "    # Duration in minutes\n",
        "    duration = end - start\n",
        "\n",
        "    # Convert back to hours and minutes\n",
        "    H = duration // 60\n",
        "    M = duration % 60\n",
        "\n",
        "    print(H, M)\n",
        "\n",
        "# Start = 2×60 + 42 = 162\n",
        "# End = 8×60 + 23 = 503\n",
        "# Duration = 503 − 162 = 341 minutes\n",
        "#  5 hr 41 min"
      ]
    },
    {
      "cell_type": "markdown",
      "metadata": {
        "id": "ujN1_INOPT4r"
      },
      "source": [
        "P12.GCD and LCM"
      ]
    },
    {
      "cell_type": "code",
      "execution_count": null,
      "metadata": {
        "colab": {
          "base_uri": "https://localhost:8080/"
        },
        "id": "whM1dn6GI5Db",
        "outputId": "00079209-14f1-4a61-ee36-38245423ae61"
      },
      "outputs": [
        {
          "name": "stdout",
          "output_type": "stream",
          "text": [
            "2\n",
            "120 140\n",
            "Output: 20 840\n",
            "10213 312\n",
            "Output: 1 3186456\n"
          ]
        }
      ],
      "source": [
        "import math\n",
        "\n",
        "T = int(input())  # number of test\n",
        "\n",
        "for _ in range(T):\n",
        "    X, Y = map(int, input().split())\n",
        "\n",
        "    gcd = math.gcd(X, Y)\n",
        "    lcm = (X * Y) // gcd\n",
        "\n",
        "    print(\"Output:\",gcd, lcm)\n"
      ]
    },
    {
      "cell_type": "markdown",
      "metadata": {
        "id": "8Fu8_2O8Pj_t"
      },
      "source": [
        "P13.Who **Wins**"
      ]
    },
    {
      "cell_type": "code",
      "execution_count": null,
      "metadata": {
        "colab": {
          "base_uri": "https://localhost:8080/"
        },
        "id": "NA2hUTkYKm9s",
        "outputId": "8087dce1-abb7-47f6-ae89-9745ac511cd4"
      },
      "outputs": [
        {
          "name": "stdout",
          "output_type": "stream",
          "text": [
            "13\n",
            "Suresh\n"
          ]
        }
      ],
      "source": [
        "N = int(input())\n",
        "\n",
        "total = 0\n",
        "i = 1\n",
        "\n",
        "while total < N:\n",
        "    total += i\n",
        "    if total >= N:\n",
        "        print(\"Ramesh\")\n",
        "        break\n",
        "\n",
        "    total += 2 * i\n",
        "    if total >= N:\n",
        "        print(\"Suresh\")\n",
        "        break\n",
        "\n",
        "    i += 1\n"
      ]
    },
    {
      "cell_type": "markdown",
      "metadata": {
        "id": "tqe84txqSAfT"
      },
      "source": [
        "P14.Build a **Staircase**"
      ]
    },
    {
      "cell_type": "code",
      "execution_count": null,
      "metadata": {
        "colab": {
          "base_uri": "https://localhost:8080/"
        },
        "id": "9hN8G-2wP0hm",
        "outputId": "085c31ab-9bbe-4eb8-9463-d17377b1880d"
      },
      "outputs": [
        {
          "name": "stdout",
          "output_type": "stream",
          "text": [
            "5\n",
            "#\n",
            "##\n",
            "###\n",
            "####\n",
            "#####\n"
          ]
        }
      ],
      "source": [
        "N = int(input())  # Read the number of levels\n",
        "\n",
        "for i in range(1, N + 1):  # Loop from 1 to N\n",
        "    print('#' * i)         # Print '#' i times"
      ]
    },
    {
      "cell_type": "markdown",
      "metadata": {
        "id": "0YZgsjDJR0kb"
      },
      "source": [
        "P15.Pascal **Triangle**"
      ]
    },
    {
      "cell_type": "code",
      "execution_count": null,
      "metadata": {
        "colab": {
          "base_uri": "https://localhost:8080/"
        },
        "id": "7IpI1BKqQoVE",
        "outputId": "eeb888d1-1b64-4ed1-ffd7-00484e1d2ae5"
      },
      "outputs": [
        {
          "name": "stdout",
          "output_type": "stream",
          "text": [
            "Enter number of rows: 5\n",
            "1 \n",
            "1 1 \n",
            "1 2 1 \n",
            "1 3 3 1 \n",
            "1 4 6 4 1 \n"
          ]
        }
      ],
      "source": [
        "# 3 = 1 + 2\n",
        "# 6 = 3 + 3\n",
        "\n",
        "# C(i,j)=i!/j!(i−j)!\n",
        "# next=current×(j+1)/(i−j)​\n",
        "\n",
        "# Read number of rows\n",
        "n = int(input(\"Enter number of rows: \"))\n",
        "\n",
        "# Create Pascal's triangle\n",
        "for i in range(n):\n",
        "    num = 1  # first number in each row is always 1\n",
        "    for j in range(i + 1):\n",
        "        print(num, end=\" \")\n",
        "        num = num * (i - j) // (j + 1)  # formula to get next number\n",
        "    print()  # move to next line\n"
      ]
    }
  ],
  "metadata": {
    "colab": {
      "provenance": []
    },
    "kernelspec": {
      "display_name": "Python 3",
      "name": "python3"
    },
    "language_info": {
      "name": "python"
    }
  },
  "nbformat": 4,
  "nbformat_minor": 0
}
